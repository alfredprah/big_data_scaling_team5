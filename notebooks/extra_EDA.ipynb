{
  "nbformat": 4,
  "nbformat_minor": 0,
  "metadata": {
    "colab": {
      "name": "extra_EDA.ipynb",
      "provenance": [],
      "collapsed_sections": []
    },
    "kernelspec": {
      "name": "python3",
      "display_name": "Python 3"
    },
    "language_info": {
      "name": "python"
    }
  },
  "cells": [
    {
      "cell_type": "markdown",
      "metadata": {
        "id": "ImdjS4NZWiTu"
      },
      "source": [
        "**Setting up Spark on our Colab environment.**"
      ]
    },
    {
      "cell_type": "code",
      "metadata": {
        "colab": {
          "base_uri": "https://localhost:8080/"
        },
        "id": "FI_H-NugnbUq",
        "outputId": "e58cdc72-44ad-4517-ad89-0aee2080d7ba"
      },
      "source": [
        "!apt-get update"
      ],
      "execution_count": null,
      "outputs": [
        {
          "output_type": "stream",
          "text": [
            "\r0% [Working]\r            \rGet:1 https://cloud.r-project.org/bin/linux/ubuntu bionic-cran40/ InRelease [3,626 B]\n",
            "\r0% [Connecting to archive.ubuntu.com (91.189.88.152)] [Connecting to security.u\r0% [Connecting to archive.ubuntu.com (91.189.88.152)] [Connecting to security.u\r0% [1 InRelease gpgv 3,626 B] [Waiting for headers] [Waiting for headers] [Wait\r                                                                               \rIgn:2 https://developer.download.nvidia.com/compute/cuda/repos/ubuntu1804/x86_64  InRelease\n",
            "\r0% [1 InRelease gpgv 3,626 B] [Waiting for headers] [Waiting for headers] [Wait\r                                                                               \rIgn:3 https://developer.download.nvidia.com/compute/machine-learning/repos/ubuntu1804/x86_64  InRelease\n",
            "\r0% [1 InRelease gpgv 3,626 B] [Waiting for headers] [Waiting for headers] [Wait\r                                                                               \rGet:4 http://security.ubuntu.com/ubuntu bionic-security InRelease [88.7 kB]\n",
            "\r0% [1 InRelease gpgv 3,626 B] [Waiting for headers] [4 InRelease 14.2 kB/88.7 k\r                                                                               \rGet:5 http://ppa.launchpad.net/c2d4u.team/c2d4u4.0+/ubuntu bionic InRelease [15.9 kB]\n",
            "Hit:6 http://archive.ubuntu.com/ubuntu bionic InRelease\n",
            "Get:7 https://developer.download.nvidia.com/compute/cuda/repos/ubuntu1804/x86_64  Release [697 B]\n",
            "Hit:8 https://developer.download.nvidia.com/compute/machine-learning/repos/ubuntu1804/x86_64  Release\n",
            "Get:9 https://developer.download.nvidia.com/compute/cuda/repos/ubuntu1804/x86_64  Release.gpg [836 B]\n",
            "Get:10 http://archive.ubuntu.com/ubuntu bionic-updates InRelease [88.7 kB]\n",
            "Get:11 https://cloud.r-project.org/bin/linux/ubuntu bionic-cran40/ Packages [55.5 kB]\n",
            "Hit:12 http://ppa.launchpad.net/cran/libgit2/ubuntu bionic InRelease\n",
            "Get:13 http://archive.ubuntu.com/ubuntu bionic-backports InRelease [74.6 kB]\n",
            "Get:14 http://ppa.launchpad.net/deadsnakes/ppa/ubuntu bionic InRelease [15.9 kB]\n",
            "Get:16 http://ppa.launchpad.net/graphics-drivers/ppa/ubuntu bionic InRelease [21.3 kB]\n",
            "Ign:17 https://developer.download.nvidia.com/compute/cuda/repos/ubuntu1804/x86_64  Packages\n",
            "Get:17 https://developer.download.nvidia.com/compute/cuda/repos/ubuntu1804/x86_64  Packages [770 kB]\n",
            "Get:18 http://ppa.launchpad.net/c2d4u.team/c2d4u4.0+/ubuntu bionic/main Sources [1,759 kB]\n",
            "Get:19 http://security.ubuntu.com/ubuntu bionic-security/universe amd64 Packages [1,410 kB]\n",
            "Get:20 http://archive.ubuntu.com/ubuntu bionic-updates/main amd64 Packages [2,550 kB]\n",
            "Get:21 http://security.ubuntu.com/ubuntu bionic-security/multiverse amd64 Packages [24.7 kB]\n",
            "Get:22 http://security.ubuntu.com/ubuntu bionic-security/main amd64 Packages [2,119 kB]\n",
            "Get:23 http://security.ubuntu.com/ubuntu bionic-security/restricted amd64 Packages [399 kB]\n",
            "Get:24 http://ppa.launchpad.net/c2d4u.team/c2d4u4.0+/ubuntu bionic/main amd64 Packages [900 kB]\n",
            "Get:25 http://archive.ubuntu.com/ubuntu bionic-updates/multiverse amd64 Packages [31.6 kB]\n",
            "Get:26 http://archive.ubuntu.com/ubuntu bionic-updates/universe amd64 Packages [2,182 kB]\n",
            "Get:27 http://archive.ubuntu.com/ubuntu bionic-updates/restricted amd64 Packages [429 kB]\n",
            "Get:28 http://ppa.launchpad.net/deadsnakes/ppa/ubuntu bionic/main amd64 Packages [40.8 kB]\n",
            "Get:29 http://ppa.launchpad.net/graphics-drivers/ppa/ubuntu bionic/main amd64 Packages [49.5 kB]\n",
            "Fetched 13.0 MB in 4s (3,631 kB/s)\n",
            "Reading package lists... Done\n"
          ],
          "name": "stdout"
        }
      ]
    },
    {
      "cell_type": "code",
      "metadata": {
        "id": "AGvULUaWVzAW",
        "colab": {
          "base_uri": "https://localhost:8080/"
        },
        "outputId": "bd3c90a3-6b86-4527-8497-0959dd23dbc1"
      },
      "source": [
        "!pip install pyspark\n",
        "!pip install -U -q PyDrive\n",
        "!apt install openjdk-8-jdk-headless -qq\n",
        "import os\n",
        "os.environ[\"JAVA_HOME\"] = \"/usr/lib/jvm/java-8-openjdk-amd64\""
      ],
      "execution_count": null,
      "outputs": [
        {
          "output_type": "stream",
          "text": [
            "Requirement already satisfied: pyspark in /usr/local/lib/python3.7/dist-packages (3.1.1)\n",
            "Requirement already satisfied: py4j==0.10.9 in /usr/local/lib/python3.7/dist-packages (from pyspark) (0.10.9)\n",
            "The following package was automatically installed and is no longer required:\n",
            "  libnvidia-common-460\n",
            "Use 'apt autoremove' to remove it.\n",
            "The following additional packages will be installed:\n",
            "  openjdk-8-jre-headless\n",
            "Suggested packages:\n",
            "  openjdk-8-demo openjdk-8-source libnss-mdns fonts-dejavu-extra\n",
            "  fonts-ipafont-gothic fonts-ipafont-mincho fonts-wqy-microhei\n",
            "  fonts-wqy-zenhei fonts-indic\n",
            "The following NEW packages will be installed:\n",
            "  openjdk-8-jdk-headless openjdk-8-jre-headless\n",
            "0 upgraded, 2 newly installed, 0 to remove and 95 not upgraded.\n",
            "Need to get 36.5 MB of archives.\n",
            "After this operation, 143 MB of additional disk space will be used.\n",
            "Selecting previously unselected package openjdk-8-jre-headless:amd64.\n",
            "(Reading database ... 160690 files and directories currently installed.)\n",
            "Preparing to unpack .../openjdk-8-jre-headless_8u292-b10-0ubuntu1~18.04_amd64.deb ...\n",
            "Unpacking openjdk-8-jre-headless:amd64 (8u292-b10-0ubuntu1~18.04) ...\n",
            "Selecting previously unselected package openjdk-8-jdk-headless:amd64.\n",
            "Preparing to unpack .../openjdk-8-jdk-headless_8u292-b10-0ubuntu1~18.04_amd64.deb ...\n",
            "Unpacking openjdk-8-jdk-headless:amd64 (8u292-b10-0ubuntu1~18.04) ...\n",
            "Setting up openjdk-8-jre-headless:amd64 (8u292-b10-0ubuntu1~18.04) ...\n",
            "update-alternatives: using /usr/lib/jvm/java-8-openjdk-amd64/jre/bin/orbd to provide /usr/bin/orbd (orbd) in auto mode\n",
            "update-alternatives: using /usr/lib/jvm/java-8-openjdk-amd64/jre/bin/servertool to provide /usr/bin/servertool (servertool) in auto mode\n",
            "update-alternatives: using /usr/lib/jvm/java-8-openjdk-amd64/jre/bin/tnameserv to provide /usr/bin/tnameserv (tnameserv) in auto mode\n",
            "Setting up openjdk-8-jdk-headless:amd64 (8u292-b10-0ubuntu1~18.04) ...\n",
            "update-alternatives: using /usr/lib/jvm/java-8-openjdk-amd64/bin/idlj to provide /usr/bin/idlj (idlj) in auto mode\n",
            "update-alternatives: using /usr/lib/jvm/java-8-openjdk-amd64/bin/wsimport to provide /usr/bin/wsimport (wsimport) in auto mode\n",
            "update-alternatives: using /usr/lib/jvm/java-8-openjdk-amd64/bin/jsadebugd to provide /usr/bin/jsadebugd (jsadebugd) in auto mode\n",
            "update-alternatives: using /usr/lib/jvm/java-8-openjdk-amd64/bin/native2ascii to provide /usr/bin/native2ascii (native2ascii) in auto mode\n",
            "update-alternatives: using /usr/lib/jvm/java-8-openjdk-amd64/bin/javah to provide /usr/bin/javah (javah) in auto mode\n",
            "update-alternatives: using /usr/lib/jvm/java-8-openjdk-amd64/bin/hsdb to provide /usr/bin/hsdb (hsdb) in auto mode\n",
            "update-alternatives: using /usr/lib/jvm/java-8-openjdk-amd64/bin/clhsdb to provide /usr/bin/clhsdb (clhsdb) in auto mode\n",
            "update-alternatives: using /usr/lib/jvm/java-8-openjdk-amd64/bin/extcheck to provide /usr/bin/extcheck (extcheck) in auto mode\n",
            "update-alternatives: using /usr/lib/jvm/java-8-openjdk-amd64/bin/schemagen to provide /usr/bin/schemagen (schemagen) in auto mode\n",
            "update-alternatives: using /usr/lib/jvm/java-8-openjdk-amd64/bin/xjc to provide /usr/bin/xjc (xjc) in auto mode\n",
            "update-alternatives: using /usr/lib/jvm/java-8-openjdk-amd64/bin/jhat to provide /usr/bin/jhat (jhat) in auto mode\n",
            "update-alternatives: using /usr/lib/jvm/java-8-openjdk-amd64/bin/wsgen to provide /usr/bin/wsgen (wsgen) in auto mode\n"
          ],
          "name": "stdout"
        }
      ]
    },
    {
      "cell_type": "code",
      "metadata": {
        "colab": {
          "base_uri": "https://localhost:8080/"
        },
        "id": "JsMjb9wJW0go",
        "outputId": "e7d41c64-df13-41ed-f9c2-1b5a4ea223c7"
      },
      "source": [
        "from google.colab import drive\n",
        "drive.mount('/content/drive')"
      ],
      "execution_count": null,
      "outputs": [
        {
          "output_type": "stream",
          "text": [
            "Drive already mounted at /content/drive; to attempt to forcibly remount, call drive.mount(\"/content/drive\", force_remount=True).\n"
          ],
          "name": "stdout"
        }
      ]
    },
    {
      "cell_type": "code",
      "metadata": {
        "colab": {
          "base_uri": "https://localhost:8080/"
        },
        "id": "GyT52S3rW02R",
        "outputId": "5e5449eb-04cd-4f2c-84b8-6721d7c453f8"
      },
      "source": [
        "import os\n",
        "cur_path = \"/content/drive/MyDrive/Colab Notebooks/Big Data/Final Project/\"\n",
        "os.chdir(cur_path)\n",
        "!pwd"
      ],
      "execution_count": null,
      "outputs": [
        {
          "output_type": "stream",
          "text": [
            "/content/drive/MyDrive/Colab Notebooks/Big Data/Final Project\n"
          ],
          "name": "stdout"
        }
      ]
    },
    {
      "cell_type": "code",
      "metadata": {
        "id": "QRh4jujXXMM2"
      },
      "source": [
        "from pyspark.sql import SparkSession\n",
        "spark = SparkSession.builder.appName('final_project').getOrCreate()"
      ],
      "execution_count": null,
      "outputs": []
    },
    {
      "cell_type": "code",
      "metadata": {
        "id": "UW3m3ovhXQCy"
      },
      "source": [
        "from pyspark import SparkConf, SparkContext\n",
        "from pyspark.sql import SQLContext\n",
        "#sc= SparkContext()\n",
        "sqlContext = SQLContext(spark)\n",
        "data = spark.read.csv(cur_path + 'DisneylandReviews.csv',inferSchema=True,header=True)"
      ],
      "execution_count": null,
      "outputs": []
    },
    {
      "cell_type": "code",
      "metadata": {
        "colab": {
          "base_uri": "https://localhost:8080/"
        },
        "id": "nPjURx9nXaQA",
        "outputId": "a3756411-e496-4d05-ffcb-0636734c7e1e"
      },
      "source": [
        "data.show()"
      ],
      "execution_count": null,
      "outputs": [
        {
          "output_type": "stream",
          "text": [
            "+---------+------+----------+--------------------+--------------------+-------------------+\n",
            "|Review_ID|Rating|Year_Month|   Reviewer_Location|         Review_Text|             Branch|\n",
            "+---------+------+----------+--------------------+--------------------+-------------------+\n",
            "|670772142|     4|    2019-4|           Australia|If you've ever be...|Disneyland_HongKong|\n",
            "|670682799|     4|    2019-5|         Philippines|Its been a while ...|Disneyland_HongKong|\n",
            "|670623270|     4|    2019-4|United Arab Emirates|Thanks God it was...|Disneyland_HongKong|\n",
            "|670607911|     4|    2019-4|           Australia|HK Disneyland is ...|Disneyland_HongKong|\n",
            "|670607296|     4|    2019-4|      United Kingdom|the location is n...|Disneyland_HongKong|\n",
            "|670591897|     3|    2019-4|           Singapore|Have been to Disn...|Disneyland_HongKong|\n",
            "|670585330|     5|    2019-4|               India|Great place! Your...|Disneyland_HongKong|\n",
            "|670574142|     3|    2019-3|            Malaysia|Think of it as an...|Disneyland_HongKong|\n",
            "|670571027|     2|    2019-4|           Australia|Feel so let down ...|Disneyland_HongKong|\n",
            "|670570869|     5|    2019-3|               India|I can go on talki...|Disneyland_HongKong|\n",
            "|670443403|     5|    2019-4|       United States|Disneyland never ...|Disneyland_HongKong|\n",
            "|670435886|     5|    2019-4|              Canada|We spent the day ...|Disneyland_HongKong|\n",
            "|670376905|     4|    2019-4|           Australia|We spend two days...|Disneyland_HongKong|\n",
            "|670324965|     5|    2019-4|         Philippines|It was indeed the...|Disneyland_HongKong|\n",
            "|670274554|     5|    2018-9|           Australia|This place is HUG...|Disneyland_HongKong|\n",
            "|670205135|     3|    2019-1|      United Kingdom|We brought ticket...|Disneyland_HongKong|\n",
            "|670199487|     4|    2019-4|     Myanmar (Burma)|Its huge , not en...|Disneyland_HongKong|\n",
            "|670129921|     3|    2019-4|      United Kingdom|Around   60 per p...|Disneyland_HongKong|\n",
            "|670099231|     4|    2019-4|           Australia|It   s Disneyland...|Disneyland_HongKong|\n",
            "|670033848|     5|   2018-11|           Hong Kong|There is nothing ...|Disneyland_HongKong|\n",
            "+---------+------+----------+--------------------+--------------------+-------------------+\n",
            "only showing top 20 rows\n",
            "\n"
          ],
          "name": "stdout"
        }
      ]
    },
    {
      "cell_type": "code",
      "metadata": {
        "colab": {
          "base_uri": "https://localhost:8080/"
        },
        "id": "XB8r-BY3gPEW",
        "outputId": "ec9729c2-dec5-4093-cdfe-fcacec6d6ac0"
      },
      "source": [
        "print((data.count(), len(data.columns)))"
      ],
      "execution_count": null,
      "outputs": [
        {
          "output_type": "stream",
          "text": [
            "(42656, 6)\n"
          ],
          "name": "stdout"
        }
      ]
    },
    {
      "cell_type": "markdown",
      "metadata": {
        "id": "HxFVAazjgeo-"
      },
      "source": [
        "##### Our dataset has 42,656 rows and 8 columns."
      ]
    },
    {
      "cell_type": "markdown",
      "metadata": {
        "id": "qKuQ5MnPa4tM"
      },
      "source": [
        "#### **Checking for NA values:**"
      ]
    },
    {
      "cell_type": "code",
      "metadata": {
        "colab": {
          "base_uri": "https://localhost:8080/"
        },
        "id": "Y4hXhag5a0P7",
        "outputId": "36333f64-399d-4138-cb51-33d1b8cfb3e2"
      },
      "source": [
        "from pyspark.sql.functions import isnan, when, count, col\n",
        "\n",
        "data.select([count(when(isnan(c), c)).alias(c) for c in data.columns]).show()"
      ],
      "execution_count": null,
      "outputs": [
        {
          "output_type": "stream",
          "text": [
            "+---------+------+----------+-----------------+-----------+------+\n",
            "|Review_ID|Rating|Year_Month|Reviewer_Location|Review_Text|Branch|\n",
            "+---------+------+----------+-----------------+-----------+------+\n",
            "|        0|     0|         0|                0|          0|     0|\n",
            "+---------+------+----------+-----------------+-----------+------+\n",
            "\n"
          ],
          "name": "stdout"
        }
      ]
    },
    {
      "cell_type": "code",
      "metadata": {
        "colab": {
          "base_uri": "https://localhost:8080/"
        },
        "id": "YlAQKOtmX7nu",
        "outputId": "80b8a4ea-8e69-4376-c3ca-018e9771f657"
      },
      "source": [
        "data.printSchema()"
      ],
      "execution_count": null,
      "outputs": [
        {
          "output_type": "stream",
          "text": [
            "root\n",
            " |-- Review_ID: integer (nullable = true)\n",
            " |-- Rating: integer (nullable = true)\n",
            " |-- Year_Month: string (nullable = true)\n",
            " |-- Reviewer_Location: string (nullable = true)\n",
            " |-- Review_Text: string (nullable = true)\n",
            " |-- Branch: string (nullable = true)\n",
            "\n"
          ],
          "name": "stdout"
        }
      ]
    },
    {
      "cell_type": "markdown",
      "metadata": {
        "id": "sDEO8JbjZKT9"
      },
      "source": [
        "#### **changing date column to type datetime**"
      ]
    },
    {
      "cell_type": "code",
      "metadata": {
        "id": "48iH8ywiZNsO"
      },
      "source": [
        "from pyspark.sql.types import TimestampType \n",
        "from pyspark.sql.types import DateType \n",
        "\n",
        "data = data.withColumn('Year_Month', data['Year_Month'].cast(DateType()))"
      ],
      "execution_count": null,
      "outputs": []
    },
    {
      "cell_type": "code",
      "metadata": {
        "colab": {
          "base_uri": "https://localhost:8080/"
        },
        "id": "72Nd4rwCZjCB",
        "outputId": "92ffdfde-5823-44f3-812d-6543a4184c0b"
      },
      "source": [
        "data.printSchema()"
      ],
      "execution_count": null,
      "outputs": [
        {
          "output_type": "stream",
          "text": [
            "root\n",
            " |-- Review_ID: integer (nullable = true)\n",
            " |-- Rating: integer (nullable = true)\n",
            " |-- Year_Month: date (nullable = true)\n",
            " |-- Reviewer_Location: string (nullable = true)\n",
            " |-- Review_Text: string (nullable = true)\n",
            " |-- Branch: string (nullable = true)\n",
            "\n"
          ],
          "name": "stdout"
        }
      ]
    },
    {
      "cell_type": "code",
      "metadata": {
        "id": "8F7kisARYckH",
        "colab": {
          "base_uri": "https://localhost:8080/"
        },
        "outputId": "8e6973ed-770f-405e-c253-4d6f288df21a"
      },
      "source": [
        "data.show()"
      ],
      "execution_count": null,
      "outputs": [
        {
          "output_type": "stream",
          "text": [
            "+---------+------+----------+--------------------+--------------------+-------------------+\n",
            "|Review_ID|Rating|Year_Month|   Reviewer_Location|         Review_Text|             Branch|\n",
            "+---------+------+----------+--------------------+--------------------+-------------------+\n",
            "|670772142|     4|2019-04-01|           Australia|If you've ever be...|Disneyland_HongKong|\n",
            "|670682799|     4|2019-05-01|         Philippines|Its been a while ...|Disneyland_HongKong|\n",
            "|670623270|     4|2019-04-01|United Arab Emirates|Thanks God it was...|Disneyland_HongKong|\n",
            "|670607911|     4|2019-04-01|           Australia|HK Disneyland is ...|Disneyland_HongKong|\n",
            "|670607296|     4|2019-04-01|      United Kingdom|the location is n...|Disneyland_HongKong|\n",
            "|670591897|     3|2019-04-01|           Singapore|Have been to Disn...|Disneyland_HongKong|\n",
            "|670585330|     5|2019-04-01|               India|Great place! Your...|Disneyland_HongKong|\n",
            "|670574142|     3|2019-03-01|            Malaysia|Think of it as an...|Disneyland_HongKong|\n",
            "|670571027|     2|2019-04-01|           Australia|Feel so let down ...|Disneyland_HongKong|\n",
            "|670570869|     5|2019-03-01|               India|I can go on talki...|Disneyland_HongKong|\n",
            "|670443403|     5|2019-04-01|       United States|Disneyland never ...|Disneyland_HongKong|\n",
            "|670435886|     5|2019-04-01|              Canada|We spent the day ...|Disneyland_HongKong|\n",
            "|670376905|     4|2019-04-01|           Australia|We spend two days...|Disneyland_HongKong|\n",
            "|670324965|     5|2019-04-01|         Philippines|It was indeed the...|Disneyland_HongKong|\n",
            "|670274554|     5|2018-09-01|           Australia|This place is HUG...|Disneyland_HongKong|\n",
            "|670205135|     3|2019-01-01|      United Kingdom|We brought ticket...|Disneyland_HongKong|\n",
            "|670199487|     4|2019-04-01|     Myanmar (Burma)|Its huge , not en...|Disneyland_HongKong|\n",
            "|670129921|     3|2019-04-01|      United Kingdom|Around   60 per p...|Disneyland_HongKong|\n",
            "|670099231|     4|2019-04-01|           Australia|It   s Disneyland...|Disneyland_HongKong|\n",
            "|670033848|     5|2018-11-01|           Hong Kong|There is nothing ...|Disneyland_HongKong|\n",
            "+---------+------+----------+--------------------+--------------------+-------------------+\n",
            "only showing top 20 rows\n",
            "\n"
          ],
          "name": "stdout"
        }
      ]
    },
    {
      "cell_type": "code",
      "metadata": {
        "id": "irO2BRgeeB1v"
      },
      "source": [
        "from pyspark.sql import functions as F\n",
        "data = data.withColumn('Month',F.from_unixtime(F.unix_timestamp(col('Year_Month'),'yyyy-MM-dd'),'MM'))"
      ],
      "execution_count": null,
      "outputs": []
    },
    {
      "cell_type": "code",
      "metadata": {
        "id": "ZbICc7Tqe8St"
      },
      "source": [
        "data = data.withColumn('Year',F.from_unixtime(F.unix_timestamp(col('Year_Month'),'yyyy-MM-dd'),'yyyy'))"
      ],
      "execution_count": null,
      "outputs": []
    },
    {
      "cell_type": "code",
      "metadata": {
        "colab": {
          "base_uri": "https://localhost:8080/"
        },
        "id": "EPrWXeplfBK6",
        "outputId": "8d5ac5e8-eb31-45df-8d85-45661d138e19"
      },
      "source": [
        "data.show()"
      ],
      "execution_count": null,
      "outputs": [
        {
          "output_type": "stream",
          "text": [
            "+---------+------+----------+--------------------+--------------------+-------------------+-----+----+\n",
            "|Review_ID|Rating|Year_Month|   Reviewer_Location|         Review_Text|             Branch|Month|Year|\n",
            "+---------+------+----------+--------------------+--------------------+-------------------+-----+----+\n",
            "|670772142|     4|2019-04-01|           Australia|If you've ever be...|Disneyland_HongKong|   04|2019|\n",
            "|670682799|     4|2019-05-01|         Philippines|Its been a while ...|Disneyland_HongKong|   05|2019|\n",
            "|670623270|     4|2019-04-01|United Arab Emirates|Thanks God it was...|Disneyland_HongKong|   04|2019|\n",
            "|670607911|     4|2019-04-01|           Australia|HK Disneyland is ...|Disneyland_HongKong|   04|2019|\n",
            "|670607296|     4|2019-04-01|      United Kingdom|the location is n...|Disneyland_HongKong|   04|2019|\n",
            "|670591897|     3|2019-04-01|           Singapore|Have been to Disn...|Disneyland_HongKong|   04|2019|\n",
            "|670585330|     5|2019-04-01|               India|Great place! Your...|Disneyland_HongKong|   04|2019|\n",
            "|670574142|     3|2019-03-01|            Malaysia|Think of it as an...|Disneyland_HongKong|   03|2019|\n",
            "|670571027|     2|2019-04-01|           Australia|Feel so let down ...|Disneyland_HongKong|   04|2019|\n",
            "|670570869|     5|2019-03-01|               India|I can go on talki...|Disneyland_HongKong|   03|2019|\n",
            "|670443403|     5|2019-04-01|       United States|Disneyland never ...|Disneyland_HongKong|   04|2019|\n",
            "|670435886|     5|2019-04-01|              Canada|We spent the day ...|Disneyland_HongKong|   04|2019|\n",
            "|670376905|     4|2019-04-01|           Australia|We spend two days...|Disneyland_HongKong|   04|2019|\n",
            "|670324965|     5|2019-04-01|         Philippines|It was indeed the...|Disneyland_HongKong|   04|2019|\n",
            "|670274554|     5|2018-09-01|           Australia|This place is HUG...|Disneyland_HongKong|   09|2018|\n",
            "|670205135|     3|2019-01-01|      United Kingdom|We brought ticket...|Disneyland_HongKong|   01|2019|\n",
            "|670199487|     4|2019-04-01|     Myanmar (Burma)|Its huge , not en...|Disneyland_HongKong|   04|2019|\n",
            "|670129921|     3|2019-04-01|      United Kingdom|Around   60 per p...|Disneyland_HongKong|   04|2019|\n",
            "|670099231|     4|2019-04-01|           Australia|It   s Disneyland...|Disneyland_HongKong|   04|2019|\n",
            "|670033848|     5|2018-11-01|           Hong Kong|There is nothing ...|Disneyland_HongKong|   11|2018|\n",
            "+---------+------+----------+--------------------+--------------------+-------------------+-----+----+\n",
            "only showing top 20 rows\n",
            "\n"
          ],
          "name": "stdout"
        }
      ]
    },
    {
      "cell_type": "code",
      "metadata": {
        "colab": {
          "base_uri": "https://localhost:8080/"
        },
        "id": "-ZRN-faof1DY",
        "outputId": "799ceed6-172e-4db4-fa53-3ffb0a155fac"
      },
      "source": [
        "from pyspark.sql.functions import min, max\n",
        "min_date, max_date = data.select(min(\"Year_Month\"), max(\"Year_Month\")).first()\n",
        "min_date, max_date"
      ],
      "execution_count": null,
      "outputs": [
        {
          "output_type": "execute_result",
          "data": {
            "text/plain": [
              "(datetime.date(2010, 3, 1), datetime.date(2019, 5, 1))"
            ]
          },
          "metadata": {
            "tags": []
          },
          "execution_count": 24
        }
      ]
    },
    {
      "cell_type": "markdown",
      "metadata": {
        "id": "FdKbFcnygCLW"
      },
      "source": [
        "##### The earliest review was in March 2010. The most recent review was in May 2019."
      ]
    },
    {
      "cell_type": "markdown",
      "metadata": {
        "id": "9OK2BitKgzkm"
      },
      "source": [
        "#### **Exploring some of the key columns:**"
      ]
    },
    {
      "cell_type": "markdown",
      "metadata": {
        "id": "xjPyYO3zhC1J"
      },
      "source": [
        "#### 1. Reviewer_Location"
      ]
    },
    {
      "cell_type": "code",
      "metadata": {
        "colab": {
          "base_uri": "https://localhost:8080/"
        },
        "id": "rULfcIaGfoK2",
        "outputId": "c18a3814-1dce-43b6-9002-1fc747493cf0"
      },
      "source": [
        "data.select(F.countDistinct(\"Reviewer_Location\")).show()"
      ],
      "execution_count": null,
      "outputs": [
        {
          "output_type": "stream",
          "text": [
            "+---------------------------------+\n",
            "|count(DISTINCT Reviewer_Location)|\n",
            "+---------------------------------+\n",
            "|                              162|\n",
            "+---------------------------------+\n",
            "\n"
          ],
          "name": "stdout"
        }
      ]
    },
    {
      "cell_type": "markdown",
      "metadata": {
        "id": "u8vj8zh_j8ko"
      },
      "source": [
        "There are 162 unique reviewer locations."
      ]
    },
    {
      "cell_type": "markdown",
      "metadata": {
        "id": "TE1ziGm5j4jz"
      },
      "source": [
        "#### The most popular reviewer locations:"
      ]
    },
    {
      "cell_type": "code",
      "metadata": {
        "colab": {
          "base_uri": "https://localhost:8080/"
        },
        "id": "kgH9F8KIjCFE",
        "outputId": "b767d3d2-76ee-4000-ca3a-ddcbf76299a8"
      },
      "source": [
        "from pyspark.sql.functions import col\n",
        "from pyspark.sql.functions import desc\n",
        "\n",
        "rev_locs = data.groupBy('Reviewer_Location').count().sort(desc(\"count\")).show()"
      ],
      "execution_count": null,
      "outputs": [
        {
          "output_type": "stream",
          "text": [
            "+--------------------+-----+\n",
            "|   Reviewer_Location|count|\n",
            "+--------------------+-----+\n",
            "|       United States|14551|\n",
            "|      United Kingdom| 9751|\n",
            "|           Australia| 4679|\n",
            "|              Canada| 2235|\n",
            "|               India| 1511|\n",
            "|         Philippines| 1070|\n",
            "|           Singapore| 1037|\n",
            "|         New Zealand|  756|\n",
            "|            Malaysia|  588|\n",
            "|           Hong Kong|  554|\n",
            "|           Indonesia|  530|\n",
            "|             Ireland|  487|\n",
            "|United Arab Emirates|  350|\n",
            "|         Netherlands|  253|\n",
            "|              France|  243|\n",
            "|        South Africa|  242|\n",
            "|            Thailand|  223|\n",
            "|             Germany|  194|\n",
            "|               China|  181|\n",
            "|               Spain|  147|\n",
            "+--------------------+-----+\n",
            "only showing top 20 rows\n",
            "\n"
          ],
          "name": "stdout"
        }
      ]
    },
    {
      "cell_type": "markdown",
      "metadata": {
        "id": "X477tB2ziTHA"
      },
      "source": [
        "#### 2. Branch"
      ]
    },
    {
      "cell_type": "code",
      "metadata": {
        "colab": {
          "base_uri": "https://localhost:8080/"
        },
        "id": "3w36ICyOidO8",
        "outputId": "359d1264-24ae-4fdf-ddfd-d3481687f9a8"
      },
      "source": [
        "data.select(F.countDistinct(\"Branch\")).show()"
      ],
      "execution_count": null,
      "outputs": [
        {
          "output_type": "stream",
          "text": [
            "+----------------------+\n",
            "|count(DISTINCT Branch)|\n",
            "+----------------------+\n",
            "|                     3|\n",
            "+----------------------+\n",
            "\n"
          ],
          "name": "stdout"
        }
      ]
    },
    {
      "cell_type": "code",
      "metadata": {
        "colab": {
          "base_uri": "https://localhost:8080/"
        },
        "id": "Fc2Dx6Awih6o",
        "outputId": "d7d05071-47b6-4b42-fc33-a3d44ab668a5"
      },
      "source": [
        "data.select(\"Branch\").distinct().show()"
      ],
      "execution_count": null,
      "outputs": [
        {
          "output_type": "stream",
          "text": [
            "+--------------------+\n",
            "|              Branch|\n",
            "+--------------------+\n",
            "| Disneyland_HongKong|\n",
            "|    Disneyland_Paris|\n",
            "|Disneyland_Califo...|\n",
            "+--------------------+\n",
            "\n"
          ],
          "name": "stdout"
        }
      ]
    },
    {
      "cell_type": "markdown",
      "metadata": {
        "id": "uAvuR8x2iymu"
      },
      "source": [
        "There are 3 unique Branches."
      ]
    },
    {
      "cell_type": "code",
      "metadata": {
        "colab": {
          "base_uri": "https://localhost:8080/"
        },
        "id": "R9kzaxwligXR",
        "outputId": "bfb2efcd-a5cd-41d3-80b9-ceddcc9e3550"
      },
      "source": [
        "unique_branches = data.groupBy('Branch').count().sort(desc(\"count\")).show()"
      ],
      "execution_count": null,
      "outputs": [
        {
          "output_type": "stream",
          "text": [
            "+--------------------+-----+\n",
            "|              Branch|count|\n",
            "+--------------------+-----+\n",
            "|Disneyland_Califo...|19406|\n",
            "|    Disneyland_Paris|13630|\n",
            "| Disneyland_HongKong| 9620|\n",
            "+--------------------+-----+\n",
            "\n"
          ],
          "name": "stdout"
        }
      ]
    },
    {
      "cell_type": "code",
      "metadata": {
        "colab": {
          "base_uri": "https://localhost:8080/",
          "height": 412
        },
        "id": "rLcYQV1Nmtbb",
        "outputId": "bdc76cd8-3210-46be-edab-3ca85140775a"
      },
      "source": [
        "data.groupBy('Branch').count().sort(desc(\"count\")).toPandas().plot(x='Branch',y='count',kind='bar', title=\"Number of Reviews by Branch\", ylabel = 'Number of Reviews')"
      ],
      "execution_count": null,
      "outputs": [
        {
          "output_type": "execute_result",
          "data": {
            "text/plain": [
              "<matplotlib.axes._subplots.AxesSubplot at 0x7fc83ca5d210>"
            ]
          },
          "metadata": {
            "tags": []
          },
          "execution_count": 35
        },
        {
          "output_type": "display_data",
          "data": {
            "image/png": "[encoded data removed]",
            "text/plain": [
              "<Figure size 432x288 with 1 Axes>"
            ]
          },
          "metadata": {
            "tags": [],
            "needs_background": "light"
          }
        }
      ]
    },
    {
      "cell_type": "code",
      "metadata": {
        "id": "xg_j_YsElZli"
      },
      "source": [
        "import pandas as pd\n",
        "import matplotlib.pyplot as plt\n",
        "import numpy as np"
      ],
      "execution_count": null,
      "outputs": []
    },
    {
      "cell_type": "code",
      "metadata": {
        "colab": {
          "base_uri": "https://localhost:8080/"
        },
        "id": "2-_xtMj-Z3nk",
        "outputId": "429de0ad-956c-4c55-8e0a-e7afb6a721ed"
      },
      "source": [
        "data.groupBy('Rating').count().sort(desc('count')).show()"
      ],
      "execution_count": null,
      "outputs": [
        {
          "output_type": "stream",
          "text": [
            "+------+-----+\n",
            "|Rating|count|\n",
            "+------+-----+\n",
            "|     5|23146|\n",
            "|     4|10775|\n",
            "|     3| 5109|\n",
            "|     2| 2127|\n",
            "|     1| 1499|\n",
            "+------+-----+\n",
            "\n"
          ],
          "name": "stdout"
        }
      ]
    },
    {
      "cell_type": "code",
      "metadata": {
        "id": "jG1v0y3VFL7w",
        "colab": {
          "base_uri": "https://localhost:8080/",
          "height": 275
        },
        "outputId": "4304dbcf-a959-4ade-9079-66e6b9d2e127"
      },
      "source": [
        "data.groupBy('Rating').count().sort(desc('count')).toPandas().plot(x='Rating',y='count',kind='bar')\n",
        "display()"
      ],
      "execution_count": null,
      "outputs": [
        {
          "output_type": "display_data",
          "data": {
            "image/png": "[encoded data removed]",
            "text/plain": [
              "<Figure size 432x288 with 1 Axes>"
            ]
          },
          "metadata": {
            "tags": [],
            "needs_background": "light"
          }
        }
      ]
    },
    {
      "cell_type": "code",
      "metadata": {
        "id": "rxJNAH47FL31",
        "colab": {
          "base_uri": "https://localhost:8080/"
        },
        "outputId": "ce95f957-4cd0-45dd-952c-0b46daa932e9"
      },
      "source": [
        "data.groupBy('Branch').agg({'Rating':'avg'}).sort(desc('avg(Rating)')).show()"
      ],
      "execution_count": null,
      "outputs": [
        {
          "output_type": "stream",
          "text": [
            "+--------------------+-----------------+\n",
            "|              Branch|      avg(Rating)|\n",
            "+--------------------+-----------------+\n",
            "|Disneyland_Califo...|4.405338555086056|\n",
            "| Disneyland_HongKong|4.204158004158004|\n",
            "|    Disneyland_Paris| 3.96008804108584|\n",
            "+--------------------+-----------------+\n",
            "\n"
          ],
          "name": "stdout"
        }
      ]
    },
    {
      "cell_type": "code",
      "metadata": {
        "id": "_yTTPAQ8FLz0",
        "colab": {
          "base_uri": "https://localhost:8080/",
          "height": 396
        },
        "outputId": "46dc747f-ccc0-41f1-a5f8-d323f4ab124e"
      },
      "source": [
        "data.groupby('Branch').agg({\"Rating\":'avg'}).sort(desc('avg(Rating)')).toPandas().plot(x='Branch',y='avg(Rating)',kind='bar', ylabel = 'Average Rating', title = 'Average Rating by Branch')\n",
        "display()"
      ],
      "execution_count": null,
      "outputs": [
        {
          "output_type": "display_data",
          "data": {
            "image/png": "[encoded data removed]",
            "text/plain": [
              "<Figure size 432x288 with 1 Axes>"
            ]
          },
          "metadata": {
            "tags": [],
            "needs_background": "light"
          }
        }
      ]
    },
    {
      "cell_type": "code",
      "metadata": {
        "id": "WMT9gX9BFLwA",
        "colab": {
          "base_uri": "https://localhost:8080/"
        },
        "outputId": "29eb7053-d8c3-4f27-cfac-f9a3c06c1ecd"
      },
      "source": [
        "data.groupby('Branch', 'Rating').count().sort(desc('Rating')).show()"
      ],
      "execution_count": null,
      "outputs": [
        {
          "output_type": "stream",
          "text": [
            "+--------------------+------+-----+\n",
            "|              Branch|Rating|count|\n",
            "+--------------------+------+-----+\n",
            "|Disneyland_Califo...|     5|12518|\n",
            "| Disneyland_HongKong|     5| 4517|\n",
            "|    Disneyland_Paris|     5| 6111|\n",
            "|Disneyland_Califo...|     4| 3981|\n",
            "| Disneyland_HongKong|     4| 3230|\n",
            "|    Disneyland_Paris|     4| 3564|\n",
            "|Disneyland_Califo...|     3| 1661|\n",
            "| Disneyland_HongKong|     3| 1365|\n",
            "|    Disneyland_Paris|     3| 2083|\n",
            "|    Disneyland_Paris|     2| 1044|\n",
            "| Disneyland_HongKong|     2|  336|\n",
            "|Disneyland_Califo...|     2|  747|\n",
            "| Disneyland_HongKong|     1|  172|\n",
            "|Disneyland_Califo...|     1|  499|\n",
            "|    Disneyland_Paris|     1|  828|\n",
            "+--------------------+------+-----+\n",
            "\n"
          ],
          "name": "stdout"
        }
      ]
    },
    {
      "cell_type": "code",
      "metadata": {
        "colab": {
          "base_uri": "https://localhost:8080/",
          "height": 282
        },
        "id": "wT71p1dvtoBe",
        "outputId": "615b240d-dfaa-4d37-c305-0f2eeef732a4"
      },
      "source": [
        "import seaborn as sns\n",
        "ratings_month = data.groupby(['Branch', 'Month']).agg({'Rating':'mean'}).sort('Month').toPandas().dropna()\n",
        "ax = sns.lineplot(data=ratings_month,x='Month',y='avg(Rating)', hue = 'Branch')\n",
        "ax.set(xlabel='Month',ylabel='Average Rating', ylim = (3.4,4.6))\n",
        "plt.show()"
      ],
      "execution_count": null,
      "outputs": [
        {
          "output_type": "display_data",
          "data": {
            "image/png": "[encoded data removed]",
            "text/plain": [
              "<Figure size 432x288 with 1 Axes>"
            ]
          },
          "metadata": {
            "tags": [],
            "needs_background": "light"
          }
        }
      ]
    },
    {
      "cell_type": "code",
      "metadata": {
        "colab": {
          "base_uri": "https://localhost:8080/",
          "height": 277
        },
        "id": "8FMNk1agwNJh",
        "outputId": "d3f96348-7832-4924-ae7f-259c40412c08"
      },
      "source": [
        "import seaborn as sns\n",
        "ratings_month = data.groupby(['Branch', 'Month']).count().sort('Month').toPandas().dropna()\n",
        "ax = sns.lineplot(data=ratings_month,x='Month',y='count', hue = 'Branch')\n",
        "ax.set(xlabel='Month',ylabel='Number of Vistis')\n",
        "plt.show()"
      ],
      "execution_count": null,
      "outputs": [
        {
          "output_type": "display_data",
          "data": {
            "image/png": "[encoded data removed]",
            "text/plain": [
              "<Figure size 432x288 with 1 Axes>"
            ]
          },
          "metadata": {
            "tags": [],
            "needs_background": "light"
          }
        }
      ]
    },
    {
      "cell_type": "code",
      "metadata": {
        "id": "_GpdnFJfFLsI"
      },
      "source": [
        "Cal = data.filter(data['Branch'] == 'Disneyland_California')\n",
        "Hkg = data.filter(data['Branch'] == 'Disneyland_HongKong')\n",
        "Par = data.filter(data['Branch'] == 'Disneyland_Paris')"
      ],
      "execution_count": null,
      "outputs": []
    },
    {
      "cell_type": "code",
      "metadata": {
        "id": "0T38VTu4FLny"
      },
      "source": [
        "cal_ratings = Cal.groupby('Month').agg({'Rating':'avg'}).sort(desc('Month'))\n",
        "hkg_ratings = Hkg.groupby('Month').agg({'Rating':'avg'}).sort(desc('Month'))\n",
        "par_ratings = Par.groupby('Month').agg({'Rating':'avg'}).sort(desc('Month'))"
      ],
      "execution_count": null,
      "outputs": []
    },
    {
      "cell_type": "code",
      "metadata": {
        "id": "rnRpQIAoaLEZ"
      },
      "source": [
        "cal_ratings = cal_ratings.dropna().sort('Month')\n",
        "hkg_ratings = hkg_ratings.dropna().sort('Month')\n",
        "par_ratings = par_ratings.dropna().sort('Month')\n",
        "month_ratings = cal_ratings.toPandas()"
      ],
      "execution_count": null,
      "outputs": []
    },
    {
      "cell_type": "code",
      "metadata": {
        "id": "k0gcdKKqFLi0",
        "colab": {
          "base_uri": "https://localhost:8080/",
          "height": 277
        },
        "outputId": "aefa4783-dd7e-435c-fce1-56770f18b660"
      },
      "source": [
        "cal_ratings.toPandas().plot(x='Month',y='avg(Rating)',kind='line')\n",
        "display()"
      ],
      "execution_count": null,
      "outputs": [
        {
          "output_type": "display_data",
          "data": {
            "image/png": "[encoded data removed]",
            "text/plain": [
              "<Figure size 432x288 with 1 Axes>"
            ]
          },
          "metadata": {
            "tags": [],
            "needs_background": "light"
          }
        }
      ]
    },
    {
      "cell_type": "code",
      "metadata": {
        "id": "G802KEY_FLdo"
      },
      "source": [
        "hkg_ratings = Hkg.groupby('Month').agg({'Rating':'avg'}).sort(desc('Month'))"
      ],
      "execution_count": null,
      "outputs": []
    },
    {
      "cell_type": "code",
      "metadata": {
        "colab": {
          "base_uri": "https://localhost:8080/"
        },
        "id": "yuAdbJNUwnwQ",
        "outputId": "08a5e0b5-a78c-43a6-f1ef-c2c0b730b27a"
      },
      "source": [
        "hkg_ratings.show()"
      ],
      "execution_count": null,
      "outputs": [
        {
          "output_type": "stream",
          "text": [
            "+-----+------------------+\n",
            "|Month|       avg(Rating)|\n",
            "+-----+------------------+\n",
            "|   12| 4.262972735268249|\n",
            "|   11| 4.237373737373737|\n",
            "|   10|4.2526193247962745|\n",
            "|   09|  4.24922600619195|\n",
            "|   08|3.9125412541254128|\n",
            "|   07| 4.101302460202605|\n",
            "|   06|4.2618741976893455|\n",
            "|   05| 4.271317829457364|\n",
            "|   04| 4.236811254396248|\n",
            "|   03| 4.282522996057819|\n",
            "|   02| 4.150495049504951|\n",
            "|   01| 4.244623655913978|\n",
            "| null| 3.985200845665962|\n",
            "+-----+------------------+\n",
            "\n"
          ],
          "name": "stdout"
        }
      ]
    },
    {
      "cell_type": "code",
      "metadata": {
        "id": "cqbdUnpgFLZp",
        "colab": {
          "base_uri": "https://localhost:8080/",
          "height": 282
        },
        "outputId": "466a8918-a3c4-48fc-c2cd-587117f3d162"
      },
      "source": [
        "hkg_ratings.toPandas().plot(x='Month',y='avg(Rating)',kind='line')\n",
        "display()"
      ],
      "execution_count": null,
      "outputs": [
        {
          "output_type": "display_data",
          "data": {
            "image/png": "[encoded data removed]",
            "text/plain": [
              "<Figure size 432x288 with 1 Axes>"
            ]
          },
          "metadata": {
            "tags": [],
            "needs_background": "light"
          }
        }
      ]
    },
    {
      "cell_type": "code",
      "metadata": {
        "id": "NavRUiIdFLDB"
      },
      "source": [
        "par_ratings = Par.groupby('Month').agg({'Rating':'avg'}).sort(desc('Month'))"
      ],
      "execution_count": null,
      "outputs": []
    },
    {
      "cell_type": "code",
      "metadata": {
        "colab": {
          "base_uri": "https://localhost:8080/"
        },
        "id": "fzYSxFqhwqjN",
        "outputId": "ca65bb29-4336-4bbb-ca73-fc48ec040f2a"
      },
      "source": [
        "par_ratings.show()"
      ],
      "execution_count": null,
      "outputs": [
        {
          "output_type": "stream",
          "text": [
            "+-----+------------------+\n",
            "|Month|       avg(Rating)|\n",
            "+-----+------------------+\n",
            "|   12| 4.010328638497652|\n",
            "|   11| 4.140056022408964|\n",
            "|   10| 4.052258635961027|\n",
            "|   09| 4.163951120162933|\n",
            "|   08| 3.835294117647059|\n",
            "|   07| 3.970326409495549|\n",
            "|   06|3.8118556701030926|\n",
            "|   05| 3.977231329690346|\n",
            "|   04|3.9273840769903763|\n",
            "|   03|  3.95114006514658|\n",
            "|   02| 4.023612750885478|\n",
            "|   01| 4.161234991423671|\n",
            "| null|3.6826923076923075|\n",
            "+-----+------------------+\n",
            "\n"
          ],
          "name": "stdout"
        }
      ]
    },
    {
      "cell_type": "code",
      "metadata": {
        "id": "XnyVzKYTFoLu",
        "colab": {
          "base_uri": "https://localhost:8080/",
          "height": 294
        },
        "outputId": "8179c4ce-0c9c-473f-d3c1-e3af16ddebf8"
      },
      "source": [
        "par_ratings.toPandas().plot(x='Month',y='avg(Rating)',kind='bar')\n",
        "display()"
      ],
      "execution_count": null,
      "outputs": [
        {
          "output_type": "display_data",
          "data": {
            "image/png": "[encoded data removed]",
            "text/plain": [
              "<Figure size 432x288 with 1 Axes>"
            ]
          },
          "metadata": {
            "tags": [],
            "needs_background": "light"
          }
        }
      ]
    },
    {
      "cell_type": "code",
      "metadata": {
        "id": "Ue6-5xaPFoGT"
      },
      "source": [
        "cal_visits = Cal.groupby('Month').count().sort(desc('Month'))"
      ],
      "execution_count": null,
      "outputs": []
    },
    {
      "cell_type": "code",
      "metadata": {
        "colab": {
          "base_uri": "https://localhost:8080/"
        },
        "id": "mbRsoqK_wuQx",
        "outputId": "307a9989-3ccb-4bb8-c201-62ea6877f107"
      },
      "source": [
        "cal_visits.show()"
      ],
      "execution_count": null,
      "outputs": [
        {
          "output_type": "stream",
          "text": [
            "+-----+-----+\n",
            "|Month|count|\n",
            "+-----+-----+\n",
            "|   12| 1672|\n",
            "|   11| 1179|\n",
            "|   10| 1776|\n",
            "|   09| 1602|\n",
            "|   08| 1688|\n",
            "|   07| 1841|\n",
            "|   06| 1647|\n",
            "|   05| 1567|\n",
            "|   04| 1482|\n",
            "|   03| 1452|\n",
            "|   02| 1107|\n",
            "|   01| 1189|\n",
            "| null| 1204|\n",
            "+-----+-----+\n",
            "\n"
          ],
          "name": "stdout"
        }
      ]
    },
    {
      "cell_type": "code",
      "metadata": {
        "id": "I8bNdaECFoBe",
        "colab": {
          "base_uri": "https://localhost:8080/",
          "height": 310
        },
        "outputId": "c430bf92-49ed-49df-d985-c78062e8a272"
      },
      "source": [
        "plt.clf()\n",
        "cal_visits.toPandas().plot(x='Month',y='count',kind='bar')\n",
        "display()"
      ],
      "execution_count": null,
      "outputs": [
        {
          "output_type": "display_data",
          "data": {
            "text/plain": [
              "<Figure size 432x288 with 0 Axes>"
            ]
          },
          "metadata": {
            "tags": []
          }
        },
        {
          "output_type": "display_data",
          "data": {
            "image/png": "[encoded data removed]",
            "text/plain": [
              "<Figure size 432x288 with 1 Axes>"
            ]
          },
          "metadata": {
            "tags": [],
            "needs_background": "light"
          }
        }
      ]
    },
    {
      "cell_type": "code",
      "metadata": {
        "id": "zwUB6xMZFn8s"
      },
      "source": [
        "hkg_visits = Hkg.groupby('Month').count().sort(desc('Month'))"
      ],
      "execution_count": null,
      "outputs": []
    },
    {
      "cell_type": "code",
      "metadata": {
        "colab": {
          "base_uri": "https://localhost:8080/"
        },
        "id": "eTPwtMrAwwex",
        "outputId": "f8265d1f-3d7c-4071-bfc0-1919f4692917"
      },
      "source": [
        "hkg_visits.show()"
      ],
      "execution_count": null,
      "outputs": [
        {
          "output_type": "stream",
          "text": [
            "+-----+-----+\n",
            "|Month|count|\n",
            "+-----+-----+\n",
            "|   12| 1137|\n",
            "|   11|  792|\n",
            "|   10|  859|\n",
            "|   09|  646|\n",
            "|   08|  606|\n",
            "|   07|  691|\n",
            "|   06|  779|\n",
            "|   05|  774|\n",
            "|   04|  853|\n",
            "|   03|  761|\n",
            "|   02|  505|\n",
            "|   01|  744|\n",
            "| null|  473|\n",
            "+-----+-----+\n",
            "\n"
          ],
          "name": "stdout"
        }
      ]
    },
    {
      "cell_type": "code",
      "metadata": {
        "id": "HlpeYykzFn3n",
        "colab": {
          "base_uri": "https://localhost:8080/",
          "height": 294
        },
        "outputId": "b7472ab5-2d8b-43ca-982b-09fe552cd03b"
      },
      "source": [
        "hkg_visits.toPandas().plot(x='Month',y='count',kind='bar')\n",
        "display()"
      ],
      "execution_count": null,
      "outputs": [
        {
          "output_type": "display_data",
          "data": {
            "image/png": "[encoded data removed]",
            "text/plain": [
              "<Figure size 432x288 with 1 Axes>"
            ]
          },
          "metadata": {
            "tags": [],
            "needs_background": "light"
          }
        }
      ]
    },
    {
      "cell_type": "code",
      "metadata": {
        "id": "5OC6fulZFnyw"
      },
      "source": [
        "par_visits = Par.groupby('Month').count().sort(desc('Month'))"
      ],
      "execution_count": null,
      "outputs": []
    },
    {
      "cell_type": "code",
      "metadata": {
        "colab": {
          "base_uri": "https://localhost:8080/"
        },
        "id": "Qg_wbJZcw0Bc",
        "outputId": "0cabf327-389e-4272-c302-f16d038ed3ef"
      },
      "source": [
        "par_visits.show()"
      ],
      "execution_count": null,
      "outputs": [
        {
          "output_type": "stream",
          "text": [
            "+-----+-----+\n",
            "|Month|count|\n",
            "+-----+-----+\n",
            "|   12| 1065|\n",
            "|   11|  714|\n",
            "|   10| 1129|\n",
            "|   09|  982|\n",
            "|   08| 1700|\n",
            "|   07| 1348|\n",
            "|   06| 1164|\n",
            "|   05| 1098|\n",
            "|   04| 1143|\n",
            "|   03|  921|\n",
            "|   02|  847|\n",
            "|   01|  583|\n",
            "| null|  936|\n",
            "+-----+-----+\n",
            "\n"
          ],
          "name": "stdout"
        }
      ]
    },
    {
      "cell_type": "code",
      "metadata": {
        "id": "6CtEOTloFntr",
        "colab": {
          "base_uri": "https://localhost:8080/",
          "height": 294
        },
        "outputId": "4454ec76-1fbc-4e25-f8fd-ad31c3da003b"
      },
      "source": [
        "par_visits.toPandas().plot(x='Month',y='count',kind='bar')\n",
        "display()"
      ],
      "execution_count": null,
      "outputs": [
        {
          "output_type": "display_data",
          "data": {
            "image/png": "[encoded data removed]",
            "text/plain": [
              "<Figure size 432x288 with 1 Axes>"
            ]
          },
          "metadata": {
            "tags": [],
            "needs_background": "light"
          }
        }
      ]
    },
    {
      "cell_type": "code",
      "metadata": {
        "id": "ULLKj5b6Fnpx"
      },
      "source": [
        "avg_review_length = data.toPandas().groupby('Rating').Review_Text.apply(lambda x: x.str.split().str.len().mean())"
      ],
      "execution_count": null,
      "outputs": []
    },
    {
      "cell_type": "code",
      "metadata": {
        "colab": {
          "base_uri": "https://localhost:8080/"
        },
        "id": "Blr2U97G1F2d",
        "outputId": "add6befb-db81-4d95-a720-167d6c62d2f7"
      },
      "source": [
        "avg_review_length"
      ],
      "execution_count": null,
      "outputs": [
        {
          "output_type": "execute_result",
          "data": {
            "text/plain": [
              "Rating\n",
              "1    197.166111\n",
              "2    186.272214\n",
              "3    154.654531\n",
              "4    139.099582\n",
              "5    110.255120\n",
              "Name: Review_Text, dtype: float64"
            ]
          },
          "metadata": {
            "tags": []
          },
          "execution_count": 100
        }
      ]
    },
    {
      "cell_type": "code",
      "metadata": {
        "id": "6Wim0sR5F2Be",
        "colab": {
          "base_uri": "https://localhost:8080/",
          "height": 275
        },
        "outputId": "1343121e-6010-49b8-876f-4068b7ee3883"
      },
      "source": [
        "avg_review_length.reset_index(name='mean_len_text').plot(x='Rating', y='mean_len_text',kind='bar', ylabel = 'Average Rating Length')\n",
        "display()"
      ],
      "execution_count": null,
      "outputs": [
        {
          "output_type": "display_data",
          "data": {
            "image/png": "[encoded data removed]",
            "text/plain": [
              "<Figure size 432x288 with 1 Axes>"
            ]
          },
          "metadata": {
            "tags": [],
            "needs_background": "light"
          }
        }
      ]
    },
    {
      "cell_type": "code",
      "metadata": {
        "id": "xgyOFJdYF18k"
      },
      "source": [
        "review_len_branch = data.toPandas().groupby(['Branch','Rating'], as_index=False).Review_Text.apply(lambda x: x.str.split().str.len().mean())"
      ],
      "execution_count": null,
      "outputs": []
    },
    {
      "cell_type": "code",
      "metadata": {
        "id": "K0pfrO-xF155",
        "colab": {
          "base_uri": "https://localhost:8080/",
          "height": 504
        },
        "outputId": "d84db743-3cb3-4d49-c031-236f4ab17e3a"
      },
      "source": [
        "review_len_branch"
      ],
      "execution_count": null,
      "outputs": [
        {
          "output_type": "execute_result",
          "data": {
            "text/html": [
              "<div>\n",
              "<style scoped>\n",
              "    .dataframe tbody tr th:only-of-type {\n",
              "        vertical-align: middle;\n",
              "    }\n",
              "\n",
              "    .dataframe tbody tr th {\n",
              "        vertical-align: top;\n",
              "    }\n",
              "\n",
              "    .dataframe thead th {\n",
              "        text-align: right;\n",
              "    }\n",
              "</style>\n",
              "<table border=\"1\" class=\"dataframe\">\n",
              "  <thead>\n",
              "    <tr style=\"text-align: right;\">\n",
              "      <th></th>\n",
              "      <th>Branch</th>\n",
              "      <th>Rating</th>\n",
              "      <th>Review_Text</th>\n",
              "    </tr>\n",
              "  </thead>\n",
              "  <tbody>\n",
              "    <tr>\n",
              "      <th>0</th>\n",
              "      <td>Disneyland_California</td>\n",
              "      <td>1</td>\n",
              "      <td>188.374749</td>\n",
              "    </tr>\n",
              "    <tr>\n",
              "      <th>1</th>\n",
              "      <td>Disneyland_California</td>\n",
              "      <td>2</td>\n",
              "      <td>176.285141</td>\n",
              "    </tr>\n",
              "    <tr>\n",
              "      <th>2</th>\n",
              "      <td>Disneyland_California</td>\n",
              "      <td>3</td>\n",
              "      <td>143.399759</td>\n",
              "    </tr>\n",
              "    <tr>\n",
              "      <th>3</th>\n",
              "      <td>Disneyland_California</td>\n",
              "      <td>4</td>\n",
              "      <td>128.714142</td>\n",
              "    </tr>\n",
              "    <tr>\n",
              "      <th>4</th>\n",
              "      <td>Disneyland_California</td>\n",
              "      <td>5</td>\n",
              "      <td>100.984343</td>\n",
              "    </tr>\n",
              "    <tr>\n",
              "      <th>5</th>\n",
              "      <td>Disneyland_HongKong</td>\n",
              "      <td>1</td>\n",
              "      <td>137.418605</td>\n",
              "    </tr>\n",
              "    <tr>\n",
              "      <th>6</th>\n",
              "      <td>Disneyland_HongKong</td>\n",
              "      <td>2</td>\n",
              "      <td>102.747024</td>\n",
              "    </tr>\n",
              "    <tr>\n",
              "      <th>7</th>\n",
              "      <td>Disneyland_HongKong</td>\n",
              "      <td>3</td>\n",
              "      <td>100.022711</td>\n",
              "    </tr>\n",
              "    <tr>\n",
              "      <th>8</th>\n",
              "      <td>Disneyland_HongKong</td>\n",
              "      <td>4</td>\n",
              "      <td>107.031579</td>\n",
              "    </tr>\n",
              "    <tr>\n",
              "      <th>9</th>\n",
              "      <td>Disneyland_HongKong</td>\n",
              "      <td>5</td>\n",
              "      <td>98.147000</td>\n",
              "    </tr>\n",
              "    <tr>\n",
              "      <th>10</th>\n",
              "      <td>Disneyland_Paris</td>\n",
              "      <td>1</td>\n",
              "      <td>214.875604</td>\n",
              "    </tr>\n",
              "    <tr>\n",
              "      <th>11</th>\n",
              "      <td>Disneyland_Paris</td>\n",
              "      <td>2</td>\n",
              "      <td>220.299808</td>\n",
              "    </tr>\n",
              "    <tr>\n",
              "      <th>12</th>\n",
              "      <td>Disneyland_Paris</td>\n",
              "      <td>3</td>\n",
              "      <td>199.429669</td>\n",
              "    </tr>\n",
              "    <tr>\n",
              "      <th>13</th>\n",
              "      <td>Disneyland_Paris</td>\n",
              "      <td>4</td>\n",
              "      <td>179.762907</td>\n",
              "    </tr>\n",
              "    <tr>\n",
              "      <th>14</th>\n",
              "      <td>Disneyland_Paris</td>\n",
              "      <td>5</td>\n",
              "      <td>138.195549</td>\n",
              "    </tr>\n",
              "  </tbody>\n",
              "</table>\n",
              "</div>"
            ],
            "text/plain": [
              "                   Branch  Rating  Review_Text\n",
              "0   Disneyland_California       1   188.374749\n",
              "1   Disneyland_California       2   176.285141\n",
              "2   Disneyland_California       3   143.399759\n",
              "3   Disneyland_California       4   128.714142\n",
              "4   Disneyland_California       5   100.984343\n",
              "5     Disneyland_HongKong       1   137.418605\n",
              "6     Disneyland_HongKong       2   102.747024\n",
              "7     Disneyland_HongKong       3   100.022711\n",
              "8     Disneyland_HongKong       4   107.031579\n",
              "9     Disneyland_HongKong       5    98.147000\n",
              "10       Disneyland_Paris       1   214.875604\n",
              "11       Disneyland_Paris       2   220.299808\n",
              "12       Disneyland_Paris       3   199.429669\n",
              "13       Disneyland_Paris       4   179.762907\n",
              "14       Disneyland_Paris       5   138.195549"
            ]
          },
          "metadata": {
            "tags": []
          },
          "execution_count": 106
        }
      ]
    },
    {
      "cell_type": "code",
      "metadata": {
        "colab": {
          "base_uri": "https://localhost:8080/",
          "height": 277
        },
        "id": "VR01D2tK0VMJ",
        "outputId": "641636dd-193d-437c-da96-decbf9f5b64e"
      },
      "source": [
        "import seaborn as sns\n",
        "ax = sns.barplot(data=review_len_branch,x='Rating',y='Review_Text', hue = 'Branch')\n",
        "ax.set(xlabel='Rating',ylabel='Average Review Length')\n",
        "plt.show()"
      ],
      "execution_count": null,
      "outputs": [
        {
          "output_type": "display_data",
          "data": {
            "image/png": "[encoded data removed]",
            "text/plain": [
              "<Figure size 432x288 with 1 Axes>"
            ]
          },
          "metadata": {
            "tags": [],
            "needs_background": "light"
          }
        }
      ]
    },
    {
      "cell_type": "code",
      "metadata": {
        "colab": {
          "base_uri": "https://localhost:8080/"
        },
        "id": "0r3wlq2awx4P",
        "outputId": "a3d73c32-1266-43a5-bda0-36d78fe2e5b4"
      },
      "source": [
        "data.show(3)"
      ],
      "execution_count": null,
      "outputs": [
        {
          "output_type": "stream",
          "text": [
            "+---------+------+----------+--------------------+--------------------+-------------------+-----+----+\n",
            "|Review_ID|Rating|Year_Month|   Reviewer_Location|         Review_Text|             Branch|Month|Year|\n",
            "+---------+------+----------+--------------------+--------------------+-------------------+-----+----+\n",
            "|670772142|     4|2019-04-01|           Australia|If you've ever be...|Disneyland_HongKong|   04|2019|\n",
            "|670682799|     4|2019-05-01|         Philippines|Its been a while ...|Disneyland_HongKong|   05|2019|\n",
            "|670623270|     4|2019-04-01|United Arab Emirates|Thanks God it was...|Disneyland_HongKong|   04|2019|\n",
            "+---------+------+----------+--------------------+--------------------+-------------------+-----+----+\n",
            "only showing top 3 rows\n",
            "\n"
          ],
          "name": "stdout"
        }
      ]
    },
    {
      "cell_type": "code",
      "metadata": {
        "id": "hCTUtjB2wqCk"
      },
      "source": [
        "data.count()"
      ],
      "execution_count": null,
      "outputs": []
    },
    {
      "cell_type": "markdown",
      "metadata": {
        "id": "5nGkoeeVDSGA"
      },
      "source": [
        "#### Modeling:\n",
        "- Binary classification of Ratings (good or bad)\n",
        "- Multilabel classification to predict the exact Rating of a Review_Text"
      ]
    },
    {
      "cell_type": "markdown",
      "metadata": {
        "id": "cERjqGT1DhE5"
      },
      "source": [
        "#### Creating a new dataframe for feature engineering"
      ]
    },
    {
      "cell_type": "code",
      "metadata": {
        "id": "UwUHNe7xCG3g"
      },
      "source": [
        "my_cols = data.select(['Review_ID','Rating','Review_Text'])\n",
        "my_data = my_cols.dropna()\n",
        "my_data.show(3)"
      ],
      "execution_count": null,
      "outputs": []
    },
    {
      "cell_type": "markdown",
      "metadata": {
        "id": "MvV7Nc7oDnWZ"
      },
      "source": [
        "- Setting a threshold for Ratings: good = 1, bad = 0. \n",
        "- Let's assume that a Rating 3+ is good and a rating of 1 or 2 is bad."
      ]
    },
    {
      "cell_type": "code",
      "metadata": {
        "id": "PlNkJtK-AHLj"
      },
      "source": [
        "my_data = my_data.withColumn(\n",
        "    'label',\n",
        "    F.when((F.col(\"Rating\") == 3), 1)\\\n",
        "    .when((F.col(\"Rating\") == 4) , 1)\\\n",
        "    .when((F.col(\"Rating\") == 5) , 1)\\\n",
        "    .otherwise(0)\n",
        ")\n",
        "my_data.show(3)"
      ],
      "execution_count": null,
      "outputs": []
    },
    {
      "cell_type": "markdown",
      "metadata": {
        "id": "s3lCyQEPFHpg"
      },
      "source": [
        "#### Removing punctuations, etc."
      ]
    },
    {
      "cell_type": "code",
      "metadata": {
        "id": "24psuUKxFKSA"
      },
      "source": [
        "# Import the necessary functions\n",
        "from pyspark.sql.functions import regexp_replace\n",
        "from pyspark.ml.feature import Tokenizer\n",
        "\n",
        "wrangled = my_data.withColumn('Review_Text', regexp_replace(my_data.Review_Text, '[_():;,.!?\\\\-]', \" \"))\n",
        "wrangled = wrangled.withColumn('Review_Text', regexp_replace(wrangled.Review_Text, '[0-9]', \" \"))\n",
        "\n",
        "# Merge multiple spaces\n",
        "wrangled = wrangled.withColumn('Review_Text', regexp_replace(wrangled.Review_Text, ' +', ' '))\n",
        "\n",
        "# Split the text into words\n",
        "wrangled = Tokenizer(inputCol='Review_Text', outputCol=\"words\").transform(wrangled)\n",
        " \n",
        "wrangled.show(4, truncate=True)\n"
      ],
      "execution_count": null,
      "outputs": []
    },
    {
      "cell_type": "markdown",
      "metadata": {
        "id": "kTjGc2L5FjOe"
      },
      "source": [
        "#### Removing stop words, etc."
      ]
    },
    {
      "cell_type": "code",
      "metadata": {
        "id": "npv5y6KBFkSf"
      },
      "source": [
        "from pyspark.ml.feature import StopWordsRemover, HashingTF, IDF\n",
        "\n",
        "# Remove stop words.\n",
        "wrangled = StopWordsRemover(inputCol='words', outputCol='terms')\\\n",
        "      .transform(wrangled)\n",
        " \n",
        "# Apply the hashing trick\n",
        "wrangled = HashingTF(inputCol = 'terms', outputCol = 'hash', numFeatures=1024)\\\n",
        "      .transform(wrangled)\n"
      ],
      "execution_count": null,
      "outputs": []
    },
    {
      "cell_type": "code",
      "metadata": {
        "id": "uykjPc2ZGf68"
      },
      "source": [
        "wrangled.show(4, truncate=True)"
      ],
      "execution_count": null,
      "outputs": []
    },
    {
      "cell_type": "markdown",
      "metadata": {
        "id": "C6eqo9f-GrJP"
      },
      "source": [
        "#### TF-IDF"
      ]
    },
    {
      "cell_type": "code",
      "metadata": {
        "id": "TsvEGOVhGkIl"
      },
      "source": [
        "# Convert hashed symbols to TF-IDF\n",
        "tf_idf = IDF(inputCol = 'hash', outputCol = 'features')\\\n",
        "      .fit(wrangled).transform(wrangled)\n",
        "      \n",
        "tf_idf.select('features', 'label').show(3, truncate=True)"
      ],
      "execution_count": null,
      "outputs": []
    },
    {
      "cell_type": "code",
      "metadata": {
        "id": "qa0U0726PMCc"
      },
      "source": [
        "type(tf_idf)"
      ],
      "execution_count": null,
      "outputs": []
    },
    {
      "cell_type": "markdown",
      "metadata": {
        "id": "fGfmSYTGG8oh"
      },
      "source": [
        "Binary classification modeling"
      ]
    },
    {
      "cell_type": "code",
      "metadata": {
        "id": "ppBkOML3G1_n"
      },
      "source": [
        "from pyspark.ml.classification import LogisticRegression\n",
        "\n",
        "# Split the data into training and testing sets\n",
        "(train_df, test_df) = tf_idf.randomSplit([0.8,0.2], seed=13)\n",
        "\n"
      ],
      "execution_count": null,
      "outputs": []
    },
    {
      "cell_type": "code",
      "metadata": {
        "id": "JNHr_yIaIHLx"
      },
      "source": [
        "train_df.show(3)"
      ],
      "execution_count": null,
      "outputs": []
    },
    {
      "cell_type": "code",
      "metadata": {
        "id": "VJctdQ4oMP3g"
      },
      "source": [
        "test_df.show(3)"
      ],
      "execution_count": null,
      "outputs": []
    },
    {
      "cell_type": "code",
      "metadata": {
        "id": "eKn4U6LFIHKF"
      },
      "source": [
        "# Fit a Logistic Regression model to the training data\n",
        "logistic = LogisticRegression(regParam=0.2).fit(train_df)\n",
        " \n",
        "# Make predictions on the testing data\n",
        "prediction = logistic.transform(test_df)"
      ],
      "execution_count": null,
      "outputs": []
    },
    {
      "cell_type": "markdown",
      "metadata": {
        "id": "tTsAztf5EC4s"
      },
      "source": [
        "#### Model Evaluation"
      ]
    },
    {
      "cell_type": "code",
      "metadata": {
        "id": "gw1COZpQIHH5"
      },
      "source": [
        "# Create a confusion matrix, comparing predictions to known labels\n",
        "prediction.groupBy('label', 'prediction').count().show()"
      ],
      "execution_count": null,
      "outputs": []
    },
    {
      "cell_type": "code",
      "metadata": {
        "id": "JBMjQejtIHFv"
      },
      "source": [
        "# Calculate the elements of the confusion matrix\n",
        "TN = prediction.filter('prediction = 0 AND label = prediction').count()\n",
        "TP = prediction.filter('prediction = 1 AND label = prediction').count()\n",
        "FN = prediction.filter('prediction = 0 AND label = 1').count()\n",
        "FP = prediction.filter('prediction = 1 AND label = 0').count()"
      ],
      "execution_count": null,
      "outputs": []
    },
    {
      "cell_type": "code",
      "metadata": {
        "id": "N7_9Vk0MIHDd"
      },
      "source": [
        "# Accuracy measures the proportion of correct predictions\n",
        "accuracy = (TN +TP)/(TN + TP +FN +FP)\n",
        "print(accuracy)"
      ],
      "execution_count": null,
      "outputs": []
    },
    {
      "cell_type": "code",
      "metadata": {
        "id": "92N6Nhp9CKZf"
      },
      "source": [
        "# Calculate precision and recall\n",
        "precision = TP/(TP+FP)\n",
        "recall = TP/(TP+FN)\n",
        "print('precision = {:.2f}\\nrecall    = {:.2f}'.format(precision, recall))"
      ],
      "execution_count": null,
      "outputs": []
    },
    {
      "cell_type": "code",
      "metadata": {
        "id": "SHsaVywMQj0P"
      },
      "source": [
        "# Find weighted precision\n",
        "from pyspark.ml.evaluation import BinaryClassificationEvaluator\n",
        " \n",
        "# Find AUC\n",
        "auc = binary_evaluator.evaluate(prediction, {binary_evaluator.metricName: \"areaUnderROC\"})\n",
        "print(auc)"
      ],
      "execution_count": null,
      "outputs": []
    },
    {
      "cell_type": "markdown",
      "metadata": {
        "id": "IbYTtE39IH3-"
      },
      "source": [
        "Pipeline for Binary Classification, using Logistic Regression"
      ]
    },
    {
      "cell_type": "code",
      "metadata": {
        "id": "IqoueQutHPnX"
      },
      "source": [
        "from pyspark.ml.feature import Tokenizer, StopWordsRemover, HashingTF, IDF\n",
        "from pyspark.ml.classification import LogisticRegression\n",
        "from pyspark.ml import Pipeline\n",
        " \n",
        "# Break text into tokens at non-word characters\n",
        "tokenizer = Tokenizer(inputCol='Review_Text', outputCol='words')\n",
        " \n",
        "# Remove stop words\n",
        "remover = StopWordsRemover(inputCol=tokenizer.getOutputCol(), outputCol='terms')\n",
        " \n",
        "# Apply the hashing trick and transform to TF-IDF\n",
        "hasher = HashingTF(inputCol=remover.getOutputCol(), outputCol=\"hash\")\n",
        "idf = IDF(inputCol=hasher.getOutputCol(), outputCol=\"features\")\n",
        " \n",
        "# Create a logistic regression object and add everything to a pipeline\n",
        "logistic = LogisticRegression()\n",
        "pipeline = Pipeline(stages=[tokenizer, remover, hasher, idf, logistic])\n"
      ],
      "execution_count": null,
      "outputs": []
    },
    {
      "cell_type": "code",
      "metadata": {
        "id": "fkvLnMF-JphS"
      },
      "source": [
        "my_data.show(3)"
      ],
      "execution_count": null,
      "outputs": []
    },
    {
      "cell_type": "code",
      "metadata": {
        "id": "KQRX4OCnJsw7"
      },
      "source": [
        "# create dataframe for Binary Classification pipeline\n",
        "new_cols = my_data[['Review_Text','label']]\n",
        "new_df = new_cols.dropna()\n",
        "new_df.show(3)\n",
        "\n",
        "# Split the data into training and testing sets\n",
        "(pipeline_train, pipeline_test) = new_df.randomSplit([0.8,0.2], seed=13)"
      ],
      "execution_count": null,
      "outputs": []
    },
    {
      "cell_type": "code",
      "metadata": {
        "id": "qa7v5dCqKZSa"
      },
      "source": [
        "# Train the pipeline on the training data\n",
        "pipeline = pipeline.fit(pipeline_train)\n",
        " \n",
        "# Make predictions on the testing data\n",
        "predictions = pipeline.transform(pipeline_test)"
      ],
      "execution_count": null,
      "outputs": []
    },
    {
      "cell_type": "code",
      "metadata": {
        "id": "rgFmeoz2EtD-"
      },
      "source": [
        "evaluator = BinaryClassificationEvaluator()\n",
        "\n",
        "evaluator.evaluate(predictions)"
      ],
      "execution_count": null,
      "outputs": []
    },
    {
      "cell_type": "markdown",
      "metadata": {
        "id": "fgr5pQRJPRBZ"
      },
      "source": [
        "- Note: Add extra steps like removing stop words to see if model performance improves and maybe use that as a talking point."
      ]
    },
    {
      "cell_type": "markdown",
      "metadata": {
        "id": "k4Oz6lpXMYV3"
      },
      "source": [
        "### Modeling to predict exact Ratings of reviews"
      ]
    },
    {
      "cell_type": "code",
      "metadata": {
        "id": "nyciUibNLz-j"
      },
      "source": [
        "data.show(3)"
      ],
      "execution_count": null,
      "outputs": []
    },
    {
      "cell_type": "markdown",
      "metadata": {
        "id": "77j-P_G_MsLW"
      },
      "source": [
        "#### Creating dataframe with relevant columns"
      ]
    },
    {
      "cell_type": "code",
      "metadata": {
        "id": "wM7sTuYSPC5V"
      },
      "source": [
        "my_cols2 = data.select(['Rating','Review_Text'])\n",
        "my_data2 = my_cols2.dropna()\n",
        "my_data2.show(10)"
      ],
      "execution_count": null,
      "outputs": []
    },
    {
      "cell_type": "code",
      "metadata": {
        "id": "4iKwRhpNQHZ3"
      },
      "source": [
        "my_data2.count()"
      ],
      "execution_count": null,
      "outputs": []
    },
    {
      "cell_type": "code",
      "metadata": {
        "id": "5rPY7iWpQ6uc"
      },
      "source": [
        "# Split the data into training and testing sets\n",
        "(pipeline_train2, pipeline_test2) = my_data2.randomSplit([0.8,0.2], seed=13)"
      ],
      "execution_count": null,
      "outputs": []
    },
    {
      "cell_type": "markdown",
      "metadata": {
        "id": "B-W8ZlhQTE4B"
      },
      "source": [
        "#### Pipeline for modeling"
      ]
    },
    {
      "cell_type": "code",
      "metadata": {
        "id": "Csr0GbaqMmUg"
      },
      "source": [
        "from pyspark.ml.feature import Tokenizer, StopWordsRemover, HashingTF, IDF\n",
        "from pyspark.ml.classification import DecisionTreeClassifier\n",
        "from pyspark.ml import Pipeline\n",
        " \n",
        "# Break text into tokens at non-word characters\n",
        "tokenizer = Tokenizer(inputCol='Review_Text', outputCol='words')\n",
        " \n",
        "# Remove stop words\n",
        "remover = StopWordsRemover(inputCol=tokenizer.getOutputCol(), outputCol='terms')\n",
        " \n",
        "# Apply the hashing trick and transform to TF-IDF\n",
        "hasher = HashingTF(inputCol=remover.getOutputCol(), outputCol=\"hash\")\n",
        "idf = IDF(inputCol=hasher.getOutputCol(), outputCol=\"features\")\n",
        " \n",
        "# Create a logistic regression object and add everything to a pipeline\n",
        "tree = DecisionTreeClassifier()\n",
        "pipeline2 = Pipeline(stages=[tokenizer, remover, hasher, idf, tree])"
      ],
      "execution_count": null,
      "outputs": []
    },
    {
      "cell_type": "markdown",
      "metadata": {
        "id": "MV_VDK9QTIqw"
      },
      "source": [
        "#### Training the model and making predictions"
      ]
    },
    {
      "cell_type": "code",
      "metadata": {
        "id": "EsIpASJ9Q-nT"
      },
      "source": [
        "# Train the pipeline on the training data\n",
        "pipeline2 = pipeline2.fit(pipeline_train)\n",
        " \n",
        "# Make predictions on the testing data\n",
        "predictions2 = pipeline2.transform(pipeline_test)"
      ],
      "execution_count": null,
      "outputs": []
    },
    {
      "cell_type": "markdown",
      "metadata": {
        "id": "HXXnzf2SRppn"
      },
      "source": [
        "#### Model Evaluation"
      ]
    },
    {
      "cell_type": "code",
      "metadata": {
        "id": "P3TdmXuBRtA9"
      },
      "source": [
        "# Create a confusion matrix, comparing predictions to known labels\n",
        "predictions2.groupBy('label', 'prediction').count().show()"
      ],
      "execution_count": null,
      "outputs": []
    },
    {
      "cell_type": "code",
      "metadata": {
        "id": "RLFUp9KjRUl1"
      },
      "source": [
        "from pyspark.ml.evaluation import MulticlassClassificationEvaluator\n",
        "\n",
        "multi_evaluator = MulticlassClassificationEvaluator()\n",
        "\n",
        "multi_evaluator.evaluate(predictions2)"
      ],
      "execution_count": null,
      "outputs": []
    },
    {
      "cell_type": "code",
      "metadata": {
        "id": "cz4IjqxdRxyn"
      },
      "source": [
        "# Calculate the elements of the confusion matrix\n",
        "TN_1 = predictions2.filter('prediction = 0 AND label = prediction').count()\n",
        "TP_1 = predictions2.filter('prediction = 1 AND label = prediction').count()\n",
        "FN_1 = predictions2.filter('prediction = 0 AND label = 1').count()\n",
        "FP_1 = predictions2.filter('prediction = 1 AND label = 0').count()\n",
        " \n",
        "# Accuracy measures the proportion of correct predictions\n",
        "accuracy_1 = (TN_1 +TP_1)/(TN_1 + TP_1 +FN_1 +FP_1)\n",
        "print(accuracy_1)"
      ],
      "execution_count": null,
      "outputs": []
    },
    {
      "cell_type": "code",
      "metadata": {
        "id": "O_oCr_MRVYGW"
      },
      "source": [
        ""
      ],
      "execution_count": null,
      "outputs": []
    }
  ]
}